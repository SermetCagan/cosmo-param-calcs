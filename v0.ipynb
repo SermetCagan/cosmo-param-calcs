{
 "cells": [
  {
   "cell_type": "code",
   "execution_count": 17,
   "id": "celtic-worry",
   "metadata": {},
   "outputs": [],
   "source": [
    "import numpy as np\n",
    "\n",
    "import getdist.plots as gplot\n",
    "\n",
    "from scipy.integrate import quad\n",
    "from scipy.constants import physical_constants\n",
    "from sympy import *\n",
    "from sympy.physics.mechanics import init_vprinting\n",
    "from tqdm.notebook import tqdm\n",
    "\n",
    "from matplotlib import pyplot as plt\n",
    "\n",
    "init_vprinting()"
   ]
  },
  {
   "cell_type": "code",
   "execution_count": 2,
   "id": "statutory-biography",
   "metadata": {},
   "outputs": [],
   "source": [
    "# symbol definitions\n",
    "phi = symbols('\\\\phi', real=True)\n",
    "Mp = symbols('M_{p}')\n",
    "xi = symbols('\\\\xi', real=True)\n",
    "m = symbols('m', real=True, positive=True)\n",
    "\n",
    "# reduced Planck's mass\n",
    "rMp = physical_constants['Planck mass'][0] / np.sqrt(8*np.pi)\n",
    "rMp = 1\n",
    "\n",
    "# conformal factor\n",
    "Om = 1 + xi*phi**2/Mp**2\n",
    "\n",
    "# jordan frame potential - simplest version chaotic model\n",
    "U = Rational(1,2)*m**2*phi**2 \n",
    "\n",
    "# einstein frame potential\n",
    "V = U/Om**2 \n",
    "\n",
    "dpsidphi = sqrt(1/Om + Rational(3,2)*Mp**2*(diff(Om,phi)/Om)**2)"
   ]
  },
  {
   "cell_type": "code",
   "execution_count": 3,
   "id": "continuous-armenia",
   "metadata": {},
   "outputs": [],
   "source": [
    "# potential derivatives\n",
    "V_p = diff(V,phi)/dpsidphi\n",
    "V_pp = diff(V_p,phi)/dpsidphi\n",
    "V_ppp = diff(V_pp,phi)/dpsidphi"
   ]
  },
  {
   "cell_type": "code",
   "execution_count": 4,
   "id": "conceptual-addiction",
   "metadata": {},
   "outputs": [],
   "source": [
    "# slow-roll parameters symbolic and functional form\n",
    "\n",
    "# epsilon\n",
    "eps = Rational(1,2)*Mp**2*V_p**2/V**2\n",
    "eps_f = lambda phi, xi: 2*(rMp**2 - phi**2*xi)**2/(phi**2*(rMp**2 + 6*phi**2*xi**2 + phi**2*xi))\n",
    "\n",
    "# eta\n",
    "eta = Mp**2*V_pp/V\n",
    "eta_f = lambda phi, xi: 2*(rMp**6 - 6*rMp**4*phi**2*xi - 36*rMp**2*phi**4*xi**3 - 5*rMp**2*phi**4*xi**2 + 12*phi**6*xi**4 + 2*phi**6*xi**3)/(phi**2*(rMp**4 + 12*rMp**2*phi**2*xi**2 + 2*rMp**2*phi**2*xi + 36*phi**4*xi**4 + 12*phi**4*xi**3 + phi**4*xi**2))\n",
    "\n",
    "# xi_sr\n",
    "xisr = Mp**4*V_p*V_ppp/V**2"
   ]
  },
  {
   "cell_type": "code",
   "execution_count": 5,
   "id": "continental-department",
   "metadata": {},
   "outputs": [],
   "source": [
    "# cosmological parameters\n",
    "\n",
    "# spectral index of the primordial scalar perturbations\n",
    "ns = lambda eps, eta: 1 + 2*eta - 6*eps\n",
    "\n",
    "# running of the spectral index\n",
    "alp = lambda eps, eta, xisr: -24*eps**2 + 16*eps*eta - 2*xisr\n",
    "\n",
    "# tensor-to-scalar ration\n",
    "r = lambda eps: 16*eps"
   ]
  },
  {
   "cell_type": "code",
   "execution_count": 6,
   "id": "pediatric-balloon",
   "metadata": {},
   "outputs": [],
   "source": [
    "# number of e-foldings integral integrand expression for numerical solution\n",
    "# will be used to find initial scalar field value\n",
    "# for N = 50 and N = 60 values \n",
    "\n",
    "integrand = dpsidphi/sqrt(2*eps)/Mp\n",
    "\n",
    "# simplified integrand in pythonic form to perform numerical integration\n",
    "integrand_f = lambda phi, xi: 0.5*phi*(rMp**2 + 6*phi**2*xi**2 + phi**2*xi)/(rMp**4 - phi**4*xi**2)"
   ]
  },
  {
   "cell_type": "code",
   "execution_count": 7,
   "id": "multiple-naples",
   "metadata": {},
   "outputs": [
    {
     "data": {
      "image/png": "[encoded data removed]",
      "text/latex": [
       "$\\displaystyle \\sqrt{\\frac{M_{p}^{2} \\sqrt{\\left(4 \\xi + 1\\right) \\left(12 \\xi + 1\\right)}}{2 \\xi \\left(4 \\xi + 1\\right)} - \\frac{M_{p}^{2}}{2 \\xi}}$"
      ],
      "text/plain": [
       "     ______________________________________________\n",
       "    ╱      2   __________________________        2 \n",
       "   ╱  M_{p} ⋅╲╱ (4⋅\\xi + 1)⋅(12⋅\\xi + 1)    M_{p}  \n",
       "  ╱   ─────────────────────────────────── - ────── \n",
       "╲╱             2⋅\\xi⋅(4⋅\\xi + 1)            2⋅\\xi  "
      ]
     },
     "metadata": {},
     "output_type": "display_data"
    }
   ],
   "source": [
    "# final value of scalar field\n",
    "phi_f = solve(eps-1, phi)\n",
    "\n",
    "# reassign real, positive solution\n",
    "phi_f = phi_f[3]\n",
    "display(phi_f)\n",
    "\n",
    "# function form of final value of scalar field\n",
    "phi_f_func = lambda xi: rMp*np.sqrt((np.sqrt(48*xi**2 + 16*xi + 1) - 1 - 4*xi)/(8*xi**2 + 2*xi))"
   ]
  },
  {
   "cell_type": "code",
   "execution_count": 29,
   "id": "premium-loading",
   "metadata": {},
   "outputs": [],
   "source": [
    "# numerical integration setup\n",
    "\n",
    "# non-minimal coupling constant range\n",
    "xi_n = np.linspace(-0.002, 0.006, 128)\n",
    "\n",
    "# step size\n",
    "dx = 0.5e-2\n",
    "\n",
    "# tolerance\n",
    "tol = 1e-1\n",
    "\n",
    "# 50 e-fold initial field values array initialization\n",
    "phi_i_50 = []\n",
    "\n",
    "# 60 e-fold initial field values array initialization\n",
    "phi_i_60 = []"
   ]
  },
  {
   "cell_type": "code",
   "execution_count": 9,
   "id": "allied-wednesday",
   "metadata": {},
   "outputs": [],
   "source": [
    "# integration method : trapezoid\n",
    "def trapezoid(f, xi, a, b, n):\n",
    "    dx = (b-a)/n\n",
    "    res = 0\n",
    "    for i in range(1,n):\n",
    "        res += f(a + i*dx, xi)\n",
    "    res += 0.5*(f(a, xi) + f(b, xi))\n",
    "    return res*dx"
   ]
  },
  {
   "cell_type": "code",
   "execution_count": 33,
   "id": "authentic-pollution",
   "metadata": {},
   "outputs": [
    {
     "data": {
      "application/vnd.jupyter.widget-view+json": {
       "model_id": "6cfdec10de434950a0ff619f89a164ac",
       "version_major": 2,
       "version_minor": 0
      },
      "text/plain": [
       "  0%|          | 0/128 [00:00<?, ?it/s]"
      ]
     },
     "metadata": {},
     "output_type": "display_data"
    },
    {
     "name": "stdout",
     "output_type": "stream",
     "text": [
      "False // 49.97152933058779 // 0.0284706694122078834\r"
     ]
    }
   ],
   "source": [
    "# 50 e-fold integration \n",
    "\n",
    "for _xi in tqdm(xi_n):\n",
    "    N = 0\n",
    "    i = 0\n",
    "    integs = []\n",
    "    while abs(N-50) >= tol:\n",
    "        integs.append(trapezoid(integrand_f, _xi, phi_f_func(_xi) + i*dx, phi_f_func(_xi) + (i+1)*dx, 32))\n",
    "        N = sum(integs)\n",
    "        print(f\"{abs(N-50)>=tol} // {N} // {abs(N-50)}\" , end='\\r')\n",
    "        i += 1\n",
    "    phi_i_50.append(phi_f_func(_xi) + (i-1)*dx)"
   ]
  },
  {
   "cell_type": "code",
   "execution_count": 30,
   "id": "stuck-omega",
   "metadata": {},
   "outputs": [
    {
     "data": {
      "application/vnd.jupyter.widget-view+json": {
       "model_id": "be507ab1fd774d7aaccff697f78a49b8",
       "version_major": 2,
       "version_minor": 0
      },
      "text/plain": [
       "  0%|          | 0/128 [00:00<?, ?it/s]"
      ]
     },
     "metadata": {},
     "output_type": "display_data"
    },
    {
     "name": "stdout",
     "output_type": "stream",
     "text": [
      "False // 59.98017971856488 // 0.0198202814351233774\r"
     ]
    }
   ],
   "source": [
    "# 60 e-fold integration \n",
    "\n",
    "for _xi in tqdm(xi_n):\n",
    "    N = 0\n",
    "    i = 0\n",
    "    integs = []\n",
    "    while abs(N-60) >= tol:\n",
    "        integs.append(trapezoid(integrand_f, _xi, phi_f_func(_xi) + i*dx, phi_f_func(_xi) + (i+1)*dx, 32))\n",
    "        N = sum(integs)\n",
    "        print(f\"{abs(N-60)>=tol} // {N} // {abs(N-60)}\" , end='\\r')\n",
    "        i += 1\n",
    "    phi_i_60.append(phi_f_func(_xi) + (i-1)*dx)"
   ]
  },
  {
   "cell_type": "code",
   "execution_count": 35,
   "id": "dedicated-auckland",
   "metadata": {},
   "outputs": [],
   "source": [
    "# cosmo - param calculation\n",
    "\n",
    "eta_50 = [eta_f(phi_i_50[i], xi_n[i]) for i in range(len(phi_i_50))]\n",
    "eps_50 = [eps_f(phi_i_50[i], xi_n[i]) for i in range(len(phi_i_50))]\n",
    "\n",
    "eta_60 = [eta_f(phi_i_60[i], xi_n[i]) for i in range(len(phi_i_60))]\n",
    "eps_60 = [eps_f(phi_i_60[i], xi_n[i]) for i in range(len(phi_i_60))]\n",
    "\n",
    "ns_50 = [ns(eps_50[i], eta_50[i]) for i in range(len(eps_50))]\n",
    "r_50 = [r(eps_50[i]) for i in range(len(eps_50))]\n",
    "\n",
    "ns_60 = [ns(eps_60[i], eta_60[i]) for i in range(len(eps_60))]\n",
    "r_60 = [r(eps_60[i]) for i in range(len(eps_60))]"
   ]
  },
  {
   "cell_type": "code",
   "execution_count": 14,
   "id": "after-justice",
   "metadata": {},
   "outputs": [
    {
     "data": {
      "text/plain": [
       "<Figure size 432x324 with 0 Axes>"
      ]
     },
     "metadata": {},
     "output_type": "display_data"
    }
   ],
   "source": [
    "g = gplot.getSinglePlotter(chain_dir=[r'/Volumes/Newton/planck/2018/COM_CosmoParams_fullGrid_R3.00/base_r/plikHM_TT_lowl_lowE',\n",
    "                                      r'/Volumes/Newton/planck/2018/COM_CosmoParams_fullGrid_R3.00/base_r/plikHM_TTTEEE_lowl_lowE',\n",
    "                                      r'/Volumes/Newton/planck/2018/COM_CosmoParams_fullGrid_R3.00/base_r/CamSpecHM_TTTEEE_lowl_lowE_lensing',\n",
    "                                      r'/Volumes/Newton/planck/2015/COM_CosmoParams_fullGrid_R2.00/base_r/plikHM_TT_lowTEB'])"
   ]
  },
  {
   "cell_type": "code",
   "execution_count": 62,
   "id": "comparative-provider",
   "metadata": {},
   "outputs": [
    {
     "data": {
      "image/png": "[encoded data removed]",
      "text/plain": [
       "<Figure size 432x324 with 2 Axes>"
      ]
     },
     "metadata": {
      "needs_background": "light"
     },
     "output_type": "display_data"
    }
   ],
   "source": [
    "g.settings.legend_frame = False\n",
    "g.settings.legend_loc = 'best'\n",
    "g.settings.figure_legend_frame = False\n",
    "\n",
    "roots = []\n",
    "roots.append('base_r_plikHM_TT_lowl_lowE')\n",
    "roots.append('base_r_plikHM_TT_lowl_lowE_post_BAO')\n",
    "roots.append('base_r_plikHM_TTTEEE_lowl_lowE')\n",
    "# roots.append('base_r_CamSpecHM_TTTEEE_lowl_lowE_lensing')\n",
    "# roots.append('base_r_plikHM_TT_lowTEB')\n",
    "# roots.append('base_r_plikHM_TT_lowTEB_post_BAO')\n",
    "pairs = [('ns','r')]\n",
    "\n",
    "g.plots_2d(roots, param_pairs=pairs, legend_labels=[], filled=True, shaded=False)\n",
    "g.add_line([0.96694214876], [0.132231404959], label=['N = 60'], ls='None', zorder=1, color='red', marker='o', markeredgewidth=7)\n",
    "g.add_line([0.960396039604], [0.158415841584], label=['N = 50'], ls='None', zorder=1, color='red', marker='o', markeredgewidth=2)\n",
    "\n",
    "legs = ['Planck TT','Planck TT + BAO','Planck TTTEEE','CamSpec TTTEEE + Lensing','Planck 2015 TT', 'Planck 2015 TT + BAO']\n",
    "leg1 = g.add_legend(legs[:3], colored_text=True, fontsize=13, legend_loc='upper left', figure=False)\n",
    "leg2 = g.subplots[0,0].legend(['N = 60', 'N = 50'], loc='upper right', frameon=False)\n",
    "g.subplots[0,0].add_artist(leg1)\n",
    "\n",
    "plt.scatter(ns_60, r_60, c=xi_n, s=1, cmap = 'inferno', vmin=xi_n.min(), vmax=xi_n.max())\n",
    "plt.scatter(ns_50, r_50, c=xi_n, s=1, cmap = 'inferno', vmin=xi_n.min(), vmax=xi_n.max())\n",
    "\n",
    "plt.colorbar(label = r'$\\xi$')\n",
    "plt.xlim(0.94,0.98)\n",
    "plt.ylim(0.00,0.20)\n",
    "\n",
    "g.export('nm.pdf',adir='/Users/sermet/Desktop/work/codes/python/')"
   ]
  },
  {
   "cell_type": "code",
   "execution_count": null,
   "id": "handy-grave",
   "metadata": {},
   "outputs": [],
   "source": []
  }
 ],
 "metadata": {
  "kernelspec": {
   "display_name": "Python 3",
   "language": "python",
   "name": "python3"
  },
  "language_info": {
   "codemirror_mode": {
    "name": "ipython",
    "version": 3
   },
   "file_extension": ".py",
   "mimetype": "text/x-python",
   "name": "python",
   "nbconvert_exporter": "python",
   "pygments_lexer": "ipython3",
   "version": "3.9.2"
  }
 },
 "nbformat": 4,
 "nbformat_minor": 5
}
